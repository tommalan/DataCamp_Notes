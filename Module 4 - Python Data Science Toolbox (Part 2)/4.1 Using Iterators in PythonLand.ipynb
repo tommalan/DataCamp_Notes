{
 "cells": [
  {
   "cell_type": "code",
   "execution_count": 1,
   "metadata": {},
   "outputs": [],
   "source": [
    "from IPython.core.interactiveshell import InteractiveShell\n",
    "InteractiveShell.ast_node_interactivity = \"all\""
   ]
  },
  {
   "cell_type": "markdown",
   "metadata": {},
   "source": [
    "You can use for loops to iterate over 'iterables'\n",
    "- Iterables include the following examples: lists, strings, dictionaries, file connections\n",
    "- An iterable is officially an object with an associated iter() method"
   ]
  },
  {
   "cell_type": "markdown",
   "metadata": {},
   "source": [
    "An ITERATOR is an object which has the associated next() method\n",
    "- You can get an iterator by using the iter() method."
   ]
  },
  {
   "cell_type": "code",
   "execution_count": 19,
   "metadata": {},
   "outputs": [
    {
     "name": "stdout",
     "output_type": "stream",
     "text": [
      "Y\n",
      "o\n",
      "---\n",
      "l o\n"
     ]
    }
   ],
   "source": [
    "my_word = 'Yolo'\n",
    "my_iterator = iter(my_word)\n",
    "#The next(it) method will go through the iterator in sequence. The iterator 'remembers' which part it is at.\n",
    "print(next(my_iterator))\n",
    "print(next(my_iterator))\n",
    "print('---')\n",
    "#You can also use the '*' operator. This unpacks all remaining parts of the iterator.\n",
    "print(*my_iterator)"
   ]
  },
  {
   "cell_type": "markdown",
   "metadata": {},
   "source": [
    "------\n",
    "To iterate over dictionaries you must first unpack them using the .items() method."
   ]
  },
  {
   "cell_type": "code",
   "execution_count": 20,
   "metadata": {},
   "outputs": [
    {
     "name": "stdout",
     "output_type": "stream",
     "text": [
      "tom sleath\n",
      "adam murph\n"
     ]
    }
   ],
   "source": [
    "pythonlearners = {'tom':'sleath', 'adam':'murph'}\n",
    "for key, value in pythonlearners.items():\n",
    "    print(key, value)"
   ]
  },
  {
   "cell_type": "markdown",
   "metadata": {},
   "source": [
    "------------------\n",
    "When you iterate over a file connection it will return things line by line."
   ]
  },
  {
   "cell_type": "raw",
   "metadata": {},
   "source": [
    "file = open('myfile.txt')\n",
    "it = iter(file)\n",
    "next(it)\n",
    "#This will return the first line of the file and then the next use of 'next()' will result in the second line."
   ]
  },
  {
   "cell_type": "markdown",
   "metadata": {},
   "source": [
    "------\n",
    "The enumerate function returns a list from an iterable that carries the values from the iterable and the matching location.\n",
    "This is initially only an enumerate object, to do something with it you should turn it into a list of tuples using list().\n",
    "For example, see below."
   ]
  },
  {
   "cell_type": "code",
   "execution_count": 21,
   "metadata": {},
   "outputs": [
    {
     "name": "stdout",
     "output_type": "stream",
     "text": [
      "[(0, 'Thomas'), (1, 'Alan'), (2, 'Sleath')]\n"
     ]
    }
   ],
   "source": [
    "my_name = ['Thomas', 'Alan', 'Sleath']\n",
    "e_my_name = list(enumerate(my_name))\n",
    "print(e_my_name)"
   ]
  },
  {
   "cell_type": "markdown",
   "metadata": {},
   "source": [
    "-----\n",
    "An enumerate object itself is also an iterable so you can use this in a loop like below"
   ]
  },
  {
   "cell_type": "code",
   "execution_count": 22,
   "metadata": {},
   "outputs": [
    {
     "name": "stdout",
     "output_type": "stream",
     "text": [
      "0 Thomas\n",
      "1 Alan\n",
      "2 Sleath\n"
     ]
    }
   ],
   "source": [
    "my_name = ['Thomas', 'Alan', 'Sleath']\n",
    "e_my_name = enumerate(my_name)\n",
    "for value, index in e_my_name:\n",
    "    print(value, index)\n"
   ]
  },
  {
   "cell_type": "markdown",
   "metadata": {},
   "source": [
    "-----\n",
    "There is also the zip() function. This takes an arbitrary number of iterables and returns an iterator of tuples. It takes the corresponding elements of each list and stitches them together in a new iterator of tuples. See below:"
   ]
  },
  {
   "cell_type": "code",
   "execution_count": 23,
   "metadata": {},
   "outputs": [
    {
     "name": "stdout",
     "output_type": "stream",
     "text": [
      "('Julie', 59)\n",
      "('Ed', 57)\n",
      "('Jack', 27)\n",
      "('Tom', 25)\n"
     ]
    }
   ],
   "source": [
    "fam_names = ['Julie', 'Ed', 'Jack', 'Tom']\n",
    "fam_age = [59, 57, 27, 25]\n",
    "fam_zip = zip(fam_names, fam_age)\n",
    "print(next(fam_zip))\n",
    "print(next(fam_zip))\n",
    "print(next(fam_zip))\n",
    "print(next(fam_zip))"
   ]
  },
  {
   "cell_type": "markdown",
   "metadata": {},
   "source": [
    "------\n",
    "Like previously mentioned you could use a for loop to iterate through the a zipped iterator or the splat operator."
   ]
  },
  {
   "cell_type": "code",
   "execution_count": 28,
   "metadata": {},
   "outputs": [
    {
     "name": "stdout",
     "output_type": "stream",
     "text": [
      "Julie 59\n",
      "Ed 57\n",
      "Jack 27\n",
      "Tom 25\n",
      "('Julie', 59) ('Ed', 57) ('Jack', 27) ('Tom', 25)\n"
     ]
    }
   ],
   "source": [
    "fam_names = ['Julie', 'Ed', 'Jack', 'Tom']\n",
    "fam_age = [59, 57, 27, 25]\n",
    "fam_zip = zip(fam_names, fam_age)\n",
    "for z, y in fam_zip:\n",
    "    print(z,y)\n",
    "fam_zip = zip(fam_names, fam_age)\n",
    "print(*fam_zip)"
   ]
  },
  {
   "cell_type": "code",
   "execution_count": null,
   "metadata": {},
   "outputs": [],
   "source": [
    "Interestingly, from the above. Whichever one is placed second will not work unless the iterator is redefined. This means that the iterator must be "
   ]
  }
 ],
 "metadata": {
  "kernelspec": {
   "display_name": "Python 3",
   "language": "python",
   "name": "python3"
  },
  "language_info": {
   "codemirror_mode": {
    "name": "ipython",
    "version": 3
   },
   "file_extension": ".py",
   "mimetype": "text/x-python",
   "name": "python",
   "nbconvert_exporter": "python",
   "pygments_lexer": "ipython3",
   "version": "3.8.5"
  }
 },
 "nbformat": 4,
 "nbformat_minor": 4
}
